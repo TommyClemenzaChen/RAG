{
 "cells": [
  {
   "cell_type": "markdown",
   "id": "0bb21bc1",
   "metadata": {},
   "source": [
    "# JinaAI\n",
    "\n",
    "Jina AI provides LLM-friendly input from a URL or a web search, by simply adding r.jina.ai in front."
   ]
  },
  {
   "cell_type": "code",
   "execution_count": 2,
   "id": "74db5235",
   "metadata": {},
   "outputs": [],
   "source": [
    "import requests\n",
    "\n",
    "def scrape_jina_ai(url: str) -> str:\n",
    "  response = requests.get(\"https://r.jina.ai/\" + url)\n",
    "  return response.text"
   ]
  },
  {
   "cell_type": "code",
   "execution_count": 4,
   "id": "4d36c7b3",
   "metadata": {},
   "outputs": [],
   "source": [
    "file_path = \"../data/output-jinaai.txt\"\n",
    "file = open(file_path, \"w\")\n",
    "\n",
    "file.write(scrape_jina_ai(\"https://recreation.ucsc.edu/facilities/index.html\"))\n",
    "\n",
    "file.close()"
   ]
  }
 ],
 "metadata": {
  "kernelspec": {
   "display_name": "Python 3 (ipykernel)",
   "language": "python",
   "name": "python3"
  },
  "language_info": {
   "codemirror_mode": {
    "name": "ipython",
    "version": 3
   },
   "file_extension": ".py",
   "mimetype": "text/x-python",
   "name": "python",
   "nbconvert_exporter": "python",
   "pygments_lexer": "ipython3",
   "version": "3.8.16"
  }
 },
 "nbformat": 4,
 "nbformat_minor": 5
}
